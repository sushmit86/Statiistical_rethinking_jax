{
  "nbformat": 4,
  "nbformat_minor": 0,
  "metadata": {
    "colab": {
      "provenance": [],
      "authorship_tag": "ABX9TyPnP75YWyG5BqMWDxpJMezm",
      "include_colab_link": true
    },
    "kernelspec": {
      "name": "python3",
      "display_name": "Python 3"
    },
    "language_info": {
      "name": "python"
    }
  },
  "cells": [
    {
      "cell_type": "markdown",
      "metadata": {
        "id": "view-in-github",
        "colab_type": "text"
      },
      "source": [
        "<a href=\"https://colab.research.google.com/github/sushmit86/Statiistical_rethinking_jax/blob/main/sushmit_02_small_worlds_and_large_worlds_1.ipynb\" target=\"_parent\"><img src=\"https://colab.research.google.com/assets/colab-badge.svg\" alt=\"Open In Colab\"/></a>"
      ]
    },
    {
      "cell_type": "code",
      "execution_count": 40,
      "metadata": {
        "colab": {
          "base_uri": "https://localhost:8080/"
        },
        "id": "VAf5EBkaSEYy",
        "outputId": "80c5a1d1-54f2-4f8d-c0f5-b892451119c6"
      },
      "outputs": [
        {
          "output_type": "stream",
          "name": "stdout",
          "text": [
            "Requirement already satisfied: watermark in /usr/local/lib/python3.10/dist-packages (2.4.3)\n",
            "Requirement already satisfied: ipython>=6.0 in /usr/local/lib/python3.10/dist-packages (from watermark) (7.34.0)\n",
            "Requirement already satisfied: importlib-metadata>=1.4 in /usr/local/lib/python3.10/dist-packages (from watermark) (7.0.0)\n",
            "Requirement already satisfied: setuptools in /usr/local/lib/python3.10/dist-packages (from watermark) (67.7.2)\n",
            "Requirement already satisfied: zipp>=0.5 in /usr/local/lib/python3.10/dist-packages (from importlib-metadata>=1.4->watermark) (3.17.0)\n",
            "Requirement already satisfied: jedi>=0.16 in /usr/local/lib/python3.10/dist-packages (from ipython>=6.0->watermark) (0.19.1)\n",
            "Requirement already satisfied: decorator in /usr/local/lib/python3.10/dist-packages (from ipython>=6.0->watermark) (4.4.2)\n",
            "Requirement already satisfied: pickleshare in /usr/local/lib/python3.10/dist-packages (from ipython>=6.0->watermark) (0.7.5)\n",
            "Requirement already satisfied: traitlets>=4.2 in /usr/local/lib/python3.10/dist-packages (from ipython>=6.0->watermark) (5.7.1)\n",
            "Requirement already satisfied: prompt-toolkit!=3.0.0,!=3.0.1,<3.1.0,>=2.0.0 in /usr/local/lib/python3.10/dist-packages (from ipython>=6.0->watermark) (3.0.43)\n",
            "Requirement already satisfied: pygments in /usr/local/lib/python3.10/dist-packages (from ipython>=6.0->watermark) (2.16.1)\n",
            "Requirement already satisfied: backcall in /usr/local/lib/python3.10/dist-packages (from ipython>=6.0->watermark) (0.2.0)\n",
            "Requirement already satisfied: matplotlib-inline in /usr/local/lib/python3.10/dist-packages (from ipython>=6.0->watermark) (0.1.6)\n",
            "Requirement already satisfied: pexpect>4.3 in /usr/local/lib/python3.10/dist-packages (from ipython>=6.0->watermark) (4.9.0)\n",
            "Requirement already satisfied: parso<0.9.0,>=0.8.3 in /usr/local/lib/python3.10/dist-packages (from jedi>=0.16->ipython>=6.0->watermark) (0.8.3)\n",
            "Requirement already satisfied: ptyprocess>=0.5 in /usr/local/lib/python3.10/dist-packages (from pexpect>4.3->ipython>=6.0->watermark) (0.7.0)\n",
            "Requirement already satisfied: wcwidth in /usr/local/lib/python3.10/dist-packages (from prompt-toolkit!=3.0.0,!=3.0.1,<3.1.0,>=2.0.0->ipython>=6.0->watermark) (0.2.12)\n",
            "Requirement already satisfied: jaxopt in /usr/local/lib/python3.10/dist-packages (0.8.2)\n",
            "Requirement already satisfied: jax>=0.2.18 in /usr/local/lib/python3.10/dist-packages (from jaxopt) (0.4.23)\n",
            "Requirement already satisfied: jaxlib>=0.1.69 in /usr/local/lib/python3.10/dist-packages (from jaxopt) (0.4.23+cuda12.cudnn89)\n",
            "Requirement already satisfied: numpy>=1.18.4 in /usr/local/lib/python3.10/dist-packages (from jaxopt) (1.23.5)\n",
            "Requirement already satisfied: scipy>=1.0.0 in /usr/local/lib/python3.10/dist-packages (from jaxopt) (1.11.4)\n",
            "Requirement already satisfied: ml-dtypes>=0.2.0 in /usr/local/lib/python3.10/dist-packages (from jax>=0.2.18->jaxopt) (0.2.0)\n",
            "Requirement already satisfied: opt-einsum in /usr/local/lib/python3.10/dist-packages (from jax>=0.2.18->jaxopt) (3.3.0)\n"
          ]
        }
      ],
      "source": [
        "# Install packages that are not installed in colab\n",
        "try:\n",
        "  import google.colab\n",
        "  !pip install watermark\n",
        "  !pip install jaxopt\n",
        "except:\n",
        "  pass"
      ]
    },
    {
      "cell_type": "code",
      "source": [
        "%load_ext watermark"
      ],
      "metadata": {
        "id": "Hx65fA0KSZvJ",
        "colab": {
          "base_uri": "https://localhost:8080/"
        },
        "outputId": "e8c0ab87-aff9-40b6-e1dd-2577e5bdd51f"
      },
      "execution_count": 41,
      "outputs": [
        {
          "output_type": "stream",
          "name": "stdout",
          "text": [
            "The watermark extension is already loaded. To reload it, use:\n",
            "  %reload_ext watermark\n"
          ]
        }
      ]
    },
    {
      "cell_type": "code",
      "source": [
        "import numpy as np\n",
        "import matplotlib.pyplot as plt\n",
        "import seaborn as sns\n",
        "import jax\n",
        "import jaxopt\n",
        "import pandas as pd\n",
        "plt.style.use('fivethirtyeight')\n",
        "import jax.numpy as jnp\n",
        "from tensorflow_probability.substrates import jax as tfp_jax\n",
        "import plotly.express as px\n",
        "from jax.scipy.optimize import minimize\n",
        "tfd_jax = tfp_jax.distributions\n",
        "# jax.config.update(\"jax_enable_x64\", True)"
      ],
      "metadata": {
        "id": "1__t38t_SbJk"
      },
      "execution_count": 42,
      "outputs": []
    },
    {
      "cell_type": "code",
      "source": [
        "%watermark -p numpy,tensorflow,tensorflow_probability,scipy,pandas,jax,jaxopt"
      ],
      "metadata": {
        "colab": {
          "base_uri": "https://localhost:8080/"
        },
        "id": "GY8NP1o5YQ4Z",
        "outputId": "89f2aa13-0ac3-4615-f1e0-0f605cfaf2f2"
      },
      "execution_count": 43,
      "outputs": [
        {
          "output_type": "stream",
          "name": "stdout",
          "text": [
            "numpy                 : 1.23.5\n",
            "tensorflow            : 2.15.0\n",
            "tensorflow_probability: 0.22.0\n",
            "scipy                 : 1.11.4\n",
            "pandas                : 1.5.3\n",
            "jax                   : 0.4.23\n",
            "jaxopt                : 0.8.2\n",
            "\n"
          ]
        }
      ]
    },
    {
      "cell_type": "code",
      "source": [
        "#@title Calculate the probability of observing 6 W out 9 with 0.5\n",
        "W = 6\n",
        "L = 3\n",
        "tfd_jax.Binomial(total_count = W +L, probs= 0.5).prob(W)"
      ],
      "metadata": {
        "colab": {
          "base_uri": "https://localhost:8080/"
        },
        "id": "E1-VWjTefee8",
        "outputId": "fe69ec60-762d-47e7-d85d-c82dd66d2dde"
      },
      "execution_count": 44,
      "outputs": [
        {
          "output_type": "execute_result",
          "data": {
            "text/plain": [
              "Array(0.16406271, dtype=float32)"
            ]
          },
          "metadata": {},
          "execution_count": 44
        }
      ]
    },
    {
      "cell_type": "code",
      "source": [
        "#@title Grid approximation\n",
        "# create a grid\n",
        "grid = jnp.linspace(0,1,100)\n",
        "# create the prior Uniform distribution\n",
        "prior = jnp.ones_like(grid)\n",
        "# Likelihood = Binomial\n",
        "unstd_post = prior * tfd_jax.Binomial(total_count = W +L,probs=grid).prob(W)\n",
        "std_post = unstd_post/unstd_post.sum()\n",
        "fig = px.line(x=grid,y=std_post)\n",
        "fig.update_layout( autosize=False,\n",
        "    width=500,\n",
        "    height=500)\n",
        "fig.show()"
      ],
      "metadata": {
        "colab": {
          "base_uri": "https://localhost:8080/",
          "height": 517
        },
        "id": "xSkm59yrhIH-",
        "outputId": "4f5082f1-c767-471c-d852-eb822192b509"
      },
      "execution_count": 45,
      "outputs": [
        {
          "output_type": "display_data",
          "data": {
            "text/html": [
              "<html>\n",
              "<head><meta charset=\"utf-8\" /></head>\n",
              "<body>\n",
              "    <div>            <script src=\"https://cdnjs.cloudflare.com/ajax/libs/mathjax/2.7.5/MathJax.js?config=TeX-AMS-MML_SVG\"></script><script type=\"text/javascript\">if (window.MathJax && window.MathJax.Hub && window.MathJax.Hub.Config) {window.MathJax.Hub.Config({SVG: {font: \"STIX-Web\"}});}</script>                <script type=\"text/javascript\">window.PlotlyConfig = {MathJaxConfig: 'local'};</script>\n",
              "        <script charset=\"utf-8\" src=\"https://cdn.plot.ly/plotly-2.24.1.min.js\"></script>                <div id=\"b9e5bdff-23f4-4ead-8d09-cc60edde76d6\" class=\"plotly-graph-div\" style=\"height:500px; width:500px;\"></div>            <script type=\"text/javascript\">                                    window.PLOTLYENV=window.PLOTLYENV || {};                                    if (document.getElementById(\"b9e5bdff-23f4-4ead-8d09-cc60edde76d6\")) {                    Plotly.newPlot(                        \"b9e5bdff-23f4-4ead-8d09-cc60edde76d6\",                        [{\"hovertemplate\":\"x=%{x}\\u003cbr\\u003ey=%{y}\\u003cextra\\u003e\\u003c\\u002fextra\\u003e\",\"legendgroup\":\"\",\"line\":{\"color\":\"#636efa\",\"dash\":\"solid\"},\"marker\":{\"symbol\":\"circle\"},\"mode\":\"lines\",\"name\":\"\",\"orientation\":\"v\",\"showlegend\":false,\"x\":[0.0,0.010101010091602802,0.020202020183205605,0.03030303120613098,0.04040404036641121,0.05050504952669144,0.06060606241226196,0.07070706784725189,0.08080808073282242,0.09090909361839294,0.10101009905338287,0.1111111119389534,0.12121212482452393,0.13131313025951385,0.14141413569450378,0.1515151560306549,0.16161616146564484,0.17171716690063477,0.1818181872367859,0.19191919267177582,0.20202019810676575,0.21212121844291687,0.2222222238779068,0.23232322931289673,0.24242424964904785,0.2525252401828766,0.2626262605190277,0.27272728085517883,0.28282827138900757,0.2929292917251587,0.3030303120613098,0.31313130259513855,0.3232323229312897,0.3333333432674408,0.34343433380126953,0.35353535413742065,0.3636363744735718,0.3737373650074005,0.38383838534355164,0.39393940567970276,0.4040403962135315,0.4141414165496826,0.42424243688583374,0.4343434274196625,0.4444444477558136,0.4545454680919647,0.46464645862579346,0.4747474789619446,0.4848484992980957,0.49494948983192444,0.5050504803657532,0.5151515007019043,0.5252525210380554,0.5353535413742065,0.5454545617103577,0.5555555820465088,0.5656565427780151,0.5757575631141663,0.5858585834503174,0.5959596037864685,0.6060606241226196,0.6161616444587708,0.6262626051902771,0.6363636255264282,0.6464646458625793,0.6565656661987305,0.6666666865348816,0.6767676472663879,0.6868686676025391,0.6969696879386902,0.7070707082748413,0.7171717286109924,0.7272727489471436,0.7373737096786499,0.747474730014801,0.7575757503509521,0.7676767706871033,0.7777777910232544,0.7878788113594055,0.7979797720909119,0.808080792427063,0.8181818127632141,0.8282828330993652,0.8383838534355164,0.8484848737716675,0.8585858345031738,0.868686854839325,0.8787878751754761,0.8888888955116272,0.8989899158477783,0.9090909361839294,0.9191918969154358,0.9292929172515869,0.939393937587738,0.9494949579238892,0.9595959782600403,0.9696969985961914,0.9797979593276978,0.9898989796638489,1.0],\"xaxis\":\"x\",\"y\":[0.0,8.74188828964284e-12,5.425286331295354e-10,5.99056981798185e-09,3.26180504828244e-08,1.205397381909279e-07,3.485645265755011e-07,8.509016424795846e-07,1.834811087064736e-06,3.5983998714073095e-06,6.547828888869844e-06,1.1213242942176294e-05,1.826299740059767e-05,2.8515640224213712e-05,4.294887912692502e-05,6.270653830142692e-05,8.910075848689303e-05,0.00012361252447590232,0.00016788726497907192,0.00022372728562913835,0.0002930813643615693,0.00037803035229444504,0.0004807677469216287,0.0006035805563442409,0.0007488221162930131,0.0009188875555992126,0.001116183353587985,0.0013430975377559662,0.001601955620571971,0.0018950015073642135,0.0022243454586714506,0.002591934287920594,0.002999518997967243,0.0034485983196645975,0.00394040672108531,0.004475847352296114,0.0050555020570755005,0.0056795342825353146,0.006347730290144682,0.0070594120770692825,0.007813457399606705,0.008608240634202957,0.009441647678613663,0.010311029851436615,0.011213254183530807,0.012144612148404121,0.013100924901664257,0.014077468775212765,0.01506903674453497,0.016069920733571053,0.01707400567829609,0.01807474158704281,0.01906517706811428,0.020038075745105743,0.020985890179872513,0.021900879219174385,0.02277512475848198,0.02360067516565323,0.024369506165385246,0.025073742493987083,0.025705646723508835,0.026257731020450592,0.026722826063632965,0.027094300836324692,0.02736598439514637,0.027532406151294708,0.027588799595832825,0.02753126621246338,0.0273568257689476,0.027063610032200813,0.02665076218545437,0.026118695735931396,0.02546909637749195,0.02470497041940689,0.023830756545066833,0.022852230817079544,0.021776719018816948,0.0206129252910614,0.0193710345774889,0.018062584102153778,0.016700435429811478,0.015298714861273766,0.013872579671442509,0.012438146397471428,0.011012258939445019,0.0096122520044446,0.00825558789074421,0.006959633436053991,0.005741180386394262,0.004616015125066042,0.003598401788622141,0.002700510900467634,0.001931739621795714,0.0012980111641809344,0.0008009476587176323,0.00043696656939573586,0.00019629862799774855,6.189406121848151e-05,8.227822036133148e-06,0.0],\"yaxis\":\"y\",\"type\":\"scatter\"}],                        {\"template\":{\"data\":{\"histogram2dcontour\":[{\"type\":\"histogram2dcontour\",\"colorbar\":{\"outlinewidth\":0,\"ticks\":\"\"},\"colorscale\":[[0.0,\"#0d0887\"],[0.1111111111111111,\"#46039f\"],[0.2222222222222222,\"#7201a8\"],[0.3333333333333333,\"#9c179e\"],[0.4444444444444444,\"#bd3786\"],[0.5555555555555556,\"#d8576b\"],[0.6666666666666666,\"#ed7953\"],[0.7777777777777778,\"#fb9f3a\"],[0.8888888888888888,\"#fdca26\"],[1.0,\"#f0f921\"]]}],\"choropleth\":[{\"type\":\"choropleth\",\"colorbar\":{\"outlinewidth\":0,\"ticks\":\"\"}}],\"histogram2d\":[{\"type\":\"histogram2d\",\"colorbar\":{\"outlinewidth\":0,\"ticks\":\"\"},\"colorscale\":[[0.0,\"#0d0887\"],[0.1111111111111111,\"#46039f\"],[0.2222222222222222,\"#7201a8\"],[0.3333333333333333,\"#9c179e\"],[0.4444444444444444,\"#bd3786\"],[0.5555555555555556,\"#d8576b\"],[0.6666666666666666,\"#ed7953\"],[0.7777777777777778,\"#fb9f3a\"],[0.8888888888888888,\"#fdca26\"],[1.0,\"#f0f921\"]]}],\"heatmap\":[{\"type\":\"heatmap\",\"colorbar\":{\"outlinewidth\":0,\"ticks\":\"\"},\"colorscale\":[[0.0,\"#0d0887\"],[0.1111111111111111,\"#46039f\"],[0.2222222222222222,\"#7201a8\"],[0.3333333333333333,\"#9c179e\"],[0.4444444444444444,\"#bd3786\"],[0.5555555555555556,\"#d8576b\"],[0.6666666666666666,\"#ed7953\"],[0.7777777777777778,\"#fb9f3a\"],[0.8888888888888888,\"#fdca26\"],[1.0,\"#f0f921\"]]}],\"heatmapgl\":[{\"type\":\"heatmapgl\",\"colorbar\":{\"outlinewidth\":0,\"ticks\":\"\"},\"colorscale\":[[0.0,\"#0d0887\"],[0.1111111111111111,\"#46039f\"],[0.2222222222222222,\"#7201a8\"],[0.3333333333333333,\"#9c179e\"],[0.4444444444444444,\"#bd3786\"],[0.5555555555555556,\"#d8576b\"],[0.6666666666666666,\"#ed7953\"],[0.7777777777777778,\"#fb9f3a\"],[0.8888888888888888,\"#fdca26\"],[1.0,\"#f0f921\"]]}],\"contourcarpet\":[{\"type\":\"contourcarpet\",\"colorbar\":{\"outlinewidth\":0,\"ticks\":\"\"}}],\"contour\":[{\"type\":\"contour\",\"colorbar\":{\"outlinewidth\":0,\"ticks\":\"\"},\"colorscale\":[[0.0,\"#0d0887\"],[0.1111111111111111,\"#46039f\"],[0.2222222222222222,\"#7201a8\"],[0.3333333333333333,\"#9c179e\"],[0.4444444444444444,\"#bd3786\"],[0.5555555555555556,\"#d8576b\"],[0.6666666666666666,\"#ed7953\"],[0.7777777777777778,\"#fb9f3a\"],[0.8888888888888888,\"#fdca26\"],[1.0,\"#f0f921\"]]}],\"surface\":[{\"type\":\"surface\",\"colorbar\":{\"outlinewidth\":0,\"ticks\":\"\"},\"colorscale\":[[0.0,\"#0d0887\"],[0.1111111111111111,\"#46039f\"],[0.2222222222222222,\"#7201a8\"],[0.3333333333333333,\"#9c179e\"],[0.4444444444444444,\"#bd3786\"],[0.5555555555555556,\"#d8576b\"],[0.6666666666666666,\"#ed7953\"],[0.7777777777777778,\"#fb9f3a\"],[0.8888888888888888,\"#fdca26\"],[1.0,\"#f0f921\"]]}],\"mesh3d\":[{\"type\":\"mesh3d\",\"colorbar\":{\"outlinewidth\":0,\"ticks\":\"\"}}],\"scatter\":[{\"fillpattern\":{\"fillmode\":\"overlay\",\"size\":10,\"solidity\":0.2},\"type\":\"scatter\"}],\"parcoords\":[{\"type\":\"parcoords\",\"line\":{\"colorbar\":{\"outlinewidth\":0,\"ticks\":\"\"}}}],\"scatterpolargl\":[{\"type\":\"scatterpolargl\",\"marker\":{\"colorbar\":{\"outlinewidth\":0,\"ticks\":\"\"}}}],\"bar\":[{\"error_x\":{\"color\":\"#2a3f5f\"},\"error_y\":{\"color\":\"#2a3f5f\"},\"marker\":{\"line\":{\"color\":\"#E5ECF6\",\"width\":0.5},\"pattern\":{\"fillmode\":\"overlay\",\"size\":10,\"solidity\":0.2}},\"type\":\"bar\"}],\"scattergeo\":[{\"type\":\"scattergeo\",\"marker\":{\"colorbar\":{\"outlinewidth\":0,\"ticks\":\"\"}}}],\"scatterpolar\":[{\"type\":\"scatterpolar\",\"marker\":{\"colorbar\":{\"outlinewidth\":0,\"ticks\":\"\"}}}],\"histogram\":[{\"marker\":{\"pattern\":{\"fillmode\":\"overlay\",\"size\":10,\"solidity\":0.2}},\"type\":\"histogram\"}],\"scattergl\":[{\"type\":\"scattergl\",\"marker\":{\"colorbar\":{\"outlinewidth\":0,\"ticks\":\"\"}}}],\"scatter3d\":[{\"type\":\"scatter3d\",\"line\":{\"colorbar\":{\"outlinewidth\":0,\"ticks\":\"\"}},\"marker\":{\"colorbar\":{\"outlinewidth\":0,\"ticks\":\"\"}}}],\"scattermapbox\":[{\"type\":\"scattermapbox\",\"marker\":{\"colorbar\":{\"outlinewidth\":0,\"ticks\":\"\"}}}],\"scatterternary\":[{\"type\":\"scatterternary\",\"marker\":{\"colorbar\":{\"outlinewidth\":0,\"ticks\":\"\"}}}],\"scattercarpet\":[{\"type\":\"scattercarpet\",\"marker\":{\"colorbar\":{\"outlinewidth\":0,\"ticks\":\"\"}}}],\"carpet\":[{\"aaxis\":{\"endlinecolor\":\"#2a3f5f\",\"gridcolor\":\"white\",\"linecolor\":\"white\",\"minorgridcolor\":\"white\",\"startlinecolor\":\"#2a3f5f\"},\"baxis\":{\"endlinecolor\":\"#2a3f5f\",\"gridcolor\":\"white\",\"linecolor\":\"white\",\"minorgridcolor\":\"white\",\"startlinecolor\":\"#2a3f5f\"},\"type\":\"carpet\"}],\"table\":[{\"cells\":{\"fill\":{\"color\":\"#EBF0F8\"},\"line\":{\"color\":\"white\"}},\"header\":{\"fill\":{\"color\":\"#C8D4E3\"},\"line\":{\"color\":\"white\"}},\"type\":\"table\"}],\"barpolar\":[{\"marker\":{\"line\":{\"color\":\"#E5ECF6\",\"width\":0.5},\"pattern\":{\"fillmode\":\"overlay\",\"size\":10,\"solidity\":0.2}},\"type\":\"barpolar\"}],\"pie\":[{\"automargin\":true,\"type\":\"pie\"}]},\"layout\":{\"autotypenumbers\":\"strict\",\"colorway\":[\"#636efa\",\"#EF553B\",\"#00cc96\",\"#ab63fa\",\"#FFA15A\",\"#19d3f3\",\"#FF6692\",\"#B6E880\",\"#FF97FF\",\"#FECB52\"],\"font\":{\"color\":\"#2a3f5f\"},\"hovermode\":\"closest\",\"hoverlabel\":{\"align\":\"left\"},\"paper_bgcolor\":\"white\",\"plot_bgcolor\":\"#E5ECF6\",\"polar\":{\"bgcolor\":\"#E5ECF6\",\"angularaxis\":{\"gridcolor\":\"white\",\"linecolor\":\"white\",\"ticks\":\"\"},\"radialaxis\":{\"gridcolor\":\"white\",\"linecolor\":\"white\",\"ticks\":\"\"}},\"ternary\":{\"bgcolor\":\"#E5ECF6\",\"aaxis\":{\"gridcolor\":\"white\",\"linecolor\":\"white\",\"ticks\":\"\"},\"baxis\":{\"gridcolor\":\"white\",\"linecolor\":\"white\",\"ticks\":\"\"},\"caxis\":{\"gridcolor\":\"white\",\"linecolor\":\"white\",\"ticks\":\"\"}},\"coloraxis\":{\"colorbar\":{\"outlinewidth\":0,\"ticks\":\"\"}},\"colorscale\":{\"sequential\":[[0.0,\"#0d0887\"],[0.1111111111111111,\"#46039f\"],[0.2222222222222222,\"#7201a8\"],[0.3333333333333333,\"#9c179e\"],[0.4444444444444444,\"#bd3786\"],[0.5555555555555556,\"#d8576b\"],[0.6666666666666666,\"#ed7953\"],[0.7777777777777778,\"#fb9f3a\"],[0.8888888888888888,\"#fdca26\"],[1.0,\"#f0f921\"]],\"sequentialminus\":[[0.0,\"#0d0887\"],[0.1111111111111111,\"#46039f\"],[0.2222222222222222,\"#7201a8\"],[0.3333333333333333,\"#9c179e\"],[0.4444444444444444,\"#bd3786\"],[0.5555555555555556,\"#d8576b\"],[0.6666666666666666,\"#ed7953\"],[0.7777777777777778,\"#fb9f3a\"],[0.8888888888888888,\"#fdca26\"],[1.0,\"#f0f921\"]],\"diverging\":[[0,\"#8e0152\"],[0.1,\"#c51b7d\"],[0.2,\"#de77ae\"],[0.3,\"#f1b6da\"],[0.4,\"#fde0ef\"],[0.5,\"#f7f7f7\"],[0.6,\"#e6f5d0\"],[0.7,\"#b8e186\"],[0.8,\"#7fbc41\"],[0.9,\"#4d9221\"],[1,\"#276419\"]]},\"xaxis\":{\"gridcolor\":\"white\",\"linecolor\":\"white\",\"ticks\":\"\",\"title\":{\"standoff\":15},\"zerolinecolor\":\"white\",\"automargin\":true,\"zerolinewidth\":2},\"yaxis\":{\"gridcolor\":\"white\",\"linecolor\":\"white\",\"ticks\":\"\",\"title\":{\"standoff\":15},\"zerolinecolor\":\"white\",\"automargin\":true,\"zerolinewidth\":2},\"scene\":{\"xaxis\":{\"backgroundcolor\":\"#E5ECF6\",\"gridcolor\":\"white\",\"linecolor\":\"white\",\"showbackground\":true,\"ticks\":\"\",\"zerolinecolor\":\"white\",\"gridwidth\":2},\"yaxis\":{\"backgroundcolor\":\"#E5ECF6\",\"gridcolor\":\"white\",\"linecolor\":\"white\",\"showbackground\":true,\"ticks\":\"\",\"zerolinecolor\":\"white\",\"gridwidth\":2},\"zaxis\":{\"backgroundcolor\":\"#E5ECF6\",\"gridcolor\":\"white\",\"linecolor\":\"white\",\"showbackground\":true,\"ticks\":\"\",\"zerolinecolor\":\"white\",\"gridwidth\":2}},\"shapedefaults\":{\"line\":{\"color\":\"#2a3f5f\"}},\"annotationdefaults\":{\"arrowcolor\":\"#2a3f5f\",\"arrowhead\":0,\"arrowwidth\":1},\"geo\":{\"bgcolor\":\"white\",\"landcolor\":\"#E5ECF6\",\"subunitcolor\":\"white\",\"showland\":true,\"showlakes\":true,\"lakecolor\":\"white\"},\"title\":{\"x\":0.05},\"mapbox\":{\"style\":\"light\"}}},\"xaxis\":{\"anchor\":\"y\",\"domain\":[0.0,1.0],\"title\":{\"text\":\"x\"}},\"yaxis\":{\"anchor\":\"x\",\"domain\":[0.0,1.0],\"title\":{\"text\":\"y\"}},\"legend\":{\"tracegroupgap\":0},\"margin\":{\"t\":60},\"autosize\":false,\"width\":500,\"height\":500},                        {\"responsive\": true}                    ).then(function(){\n",
              "                            \n",
              "var gd = document.getElementById('b9e5bdff-23f4-4ead-8d09-cc60edde76d6');\n",
              "var x = new MutationObserver(function (mutations, observer) {{\n",
              "        var display = window.getComputedStyle(gd).display;\n",
              "        if (!display || display === 'none') {{\n",
              "            console.log([gd, 'removed!']);\n",
              "            Plotly.purge(gd);\n",
              "            observer.disconnect();\n",
              "        }}\n",
              "}});\n",
              "\n",
              "// Listen for the removal of the full notebook cells\n",
              "var notebookContainer = gd.closest('#notebook-container');\n",
              "if (notebookContainer) {{\n",
              "    x.observe(notebookContainer, {childList: true});\n",
              "}}\n",
              "\n",
              "// Listen for the clearing of the current output cell\n",
              "var outputEl = gd.closest('.output');\n",
              "if (outputEl) {{\n",
              "    x.observe(outputEl, {childList: true});\n",
              "}}\n",
              "\n",
              "                        })                };                            </script>        </div>\n",
              "</body>\n",
              "</html>"
            ]
          },
          "metadata": {}
        }
      ]
    },
    {
      "cell_type": "code",
      "source": [
        "#@title Quadratic Approximation\n",
        "## Approximate using the hessian and normal distb\n",
        "## few concepts -- you need BFGS optimizer, grad\n",
        "## first we need define the log likehoof\n",
        "key = jax.random.PRNGKey(11)\n",
        "dist = tfd_jax.JointDistributionNamed(\n",
        "    {\n",
        "        \"probability\":tfd_jax.Uniform(low= 0.0, high = 1.0),\n",
        "        \"water\": lambda probability:tfd_jax.Binomial(total_count = W +L,probs = probability)\n",
        "    }\n",
        ")\n",
        "def neg_log_prob(x):\n",
        "    return tfp_jax.math.value_and_gradient(\n",
        "        lambda p: -dist.log_prob(\n",
        "            water=W, probability= jnp.clip(p[-1],0,1)),\n",
        "        x,\n",
        "    )\n",
        "\n",
        "\n",
        "optim_results = tfp_jax.optimizer.bfgs_minimize(neg_log_prob,\n",
        "                                                initial_position=[0.5],\n",
        "                                                tolerance = 1e-6)\n",
        "assert(optim_results.converged)\n",
        "\n",
        "print(optim_results)\n",
        "mean = optim_results.position\n",
        "std_dev = jnp.sqrt(optim_results.inverse_hessian_estimate)\n",
        "quad_approx_dist = tfd_jax.Normal(loc = mean,scale = std_dev)"
      ],
      "metadata": {
        "colab": {
          "base_uri": "https://localhost:8080/"
        },
        "id": "bCF30P9cjqg8",
        "outputId": "b1121fa6-ebfa-4ec6-b9ac-3d494b2375fe"
      },
      "execution_count": 46,
      "outputs": [
        {
          "output_type": "stream",
          "name": "stdout",
          "text": [
            "BfgsOptimizerResults(converged=Array(True, dtype=bool), failed=Array(False, dtype=bool), num_iterations=Array(4, dtype=int32), num_objective_evaluations=Array(13, dtype=int32), position=Array([0.6666667], dtype=float32), objective_value=Array(1.2978106, dtype=float32), objective_gradient=Array([9.536743e-07], dtype=float32), inverse_hessian_estimate=Array([[0.02470744]], dtype=float32))\n"
          ]
        }
      ]
    },
    {
      "cell_type": "code",
      "source": [
        "# test_fn = lambda x: -dist.log_prob(water=W, probability= jnp.clip(x,0,1))[0]\n",
        "\n",
        "# optim_scipy_results = minimize(test_fn,x0 = jnp.array([0.5]),method=\"BFGS\",tol=1e-6)\n",
        "# optim_scipy_results"
      ],
      "metadata": {
        "id": "bHDbq5IvCZp6"
      },
      "execution_count": 47,
      "outputs": []
    },
    {
      "cell_type": "code",
      "source": [
        "analytical_solution = tfd_jax.Beta(concentration1 = 1+W, concentration0 = 1+L)\n",
        "grid = jnp.linspace(0,1,100)\n",
        "df_soln = pd.DataFrame({'x':grid,'analytical_solution':analytical_solution.prob(grid),\n",
        "             'quad_approx':quad_approx_dist.prob(grid).reshape(100,)})\n",
        "fig = px.line(df_soln, x='x', y=['analytical_solution', 'quad_approx'])\n",
        "\n",
        "\n",
        "fig.update_layout( autosize=False,\n",
        "    width=500,\n",
        "    height=500)\n",
        "fig.show()"
      ],
      "metadata": {
        "colab": {
          "base_uri": "https://localhost:8080/",
          "height": 517
        },
        "id": "eAriwK5x5W4O",
        "outputId": "8bc2e36c-65dc-4519-eed3-8c10a3e9a478"
      },
      "execution_count": 48,
      "outputs": [
        {
          "output_type": "display_data",
          "data": {
            "text/html": [
              "<html>\n",
              "<head><meta charset=\"utf-8\" /></head>\n",
              "<body>\n",
              "    <div>            <script src=\"https://cdnjs.cloudflare.com/ajax/libs/mathjax/2.7.5/MathJax.js?config=TeX-AMS-MML_SVG\"></script><script type=\"text/javascript\">if (window.MathJax && window.MathJax.Hub && window.MathJax.Hub.Config) {window.MathJax.Hub.Config({SVG: {font: \"STIX-Web\"}});}</script>                <script type=\"text/javascript\">window.PlotlyConfig = {MathJaxConfig: 'local'};</script>\n",
              "        <script charset=\"utf-8\" src=\"https://cdn.plot.ly/plotly-2.24.1.min.js\"></script>                <div id=\"4881aed0-c396-43f2-ac88-4f256e91db2c\" class=\"plotly-graph-div\" style=\"height:500px; width:500px;\"></div>            <script type=\"text/javascript\">                                    window.PLOTLYENV=window.PLOTLYENV || {};                                    if (document.getElementById(\"4881aed0-c396-43f2-ac88-4f256e91db2c\")) {                    Plotly.newPlot(                        \"4881aed0-c396-43f2-ac88-4f256e91db2c\",                        [{\"hovertemplate\":\"variable=analytical_solution\\u003cbr\\u003ex=%{x}\\u003cbr\\u003evalue=%{y}\\u003cextra\\u003e\\u003c\\u002fextra\\u003e\",\"legendgroup\":\"analytical_solution\",\"line\":{\"color\":\"#636efa\",\"dash\":\"solid\"},\"marker\":{\"symbol\":\"circle\"},\"mode\":\"lines\",\"name\":\"analytical_solution\",\"orientation\":\"v\",\"showlegend\":true,\"x\":[0.0,0.010101010091602802,0.020202020183205605,0.03030303120613098,0.04040404036641121,0.05050504952669144,0.06060606241226196,0.07070706784725189,0.08080808073282242,0.09090909361839294,0.10101009905338287,0.1111111119389534,0.12121212482452393,0.13131313025951385,0.14141413569450378,0.1515151560306549,0.16161616146564484,0.17171716690063477,0.1818181872367859,0.19191919267177582,0.20202019810676575,0.21212121844291687,0.2222222238779068,0.23232322931289673,0.24242424964904785,0.2525252401828766,0.2626262605190277,0.27272728085517883,0.28282827138900757,0.2929292917251587,0.3030303120613098,0.31313130259513855,0.3232323229312897,0.3333333432674408,0.34343433380126953,0.35353535413742065,0.3636363744735718,0.3737373650074005,0.38383838534355164,0.39393940567970276,0.4040403962135315,0.4141414165496826,0.42424243688583374,0.4343434274196625,0.4444444477558136,0.4545454680919647,0.46464645862579346,0.4747474789619446,0.4848484992980957,0.49494948983192444,0.5050504803657532,0.5151515007019043,0.5252525210380554,0.5353535413742065,0.5454545617103577,0.5555555820465088,0.5656565427780151,0.5757575631141663,0.5858585834503174,0.5959596037864685,0.6060606241226196,0.6161616444587708,0.6262626051902771,0.6363636255264282,0.6464646458625793,0.6565656661987305,0.6666666865348816,0.6767676472663879,0.6868686676025391,0.6969696879386902,0.7070707082748413,0.7171717286109924,0.7272727489471436,0.7373737096786499,0.747474730014801,0.7575757503509521,0.7676767706871033,0.7777777910232544,0.7878788113594055,0.7979797720909119,0.808080792427063,0.8181818127632141,0.8282828330993652,0.8383838534355164,0.8484848737716675,0.8585858345031738,0.868686854839325,0.8787878751754761,0.8888888955116272,0.8989899158477783,0.9090909361839294,0.9191918969154358,0.9292929172515869,0.939393937587738,0.9494949579238892,0.9595959782600403,0.9696969985961914,0.9797979593276978,0.9898989796638489,1.0],\"xaxis\":\"x\",\"y\":[0.0,8.654469918489838e-10,5.371044409230308e-08,5.930670567977359e-07,3.2291904972225893e-06,1.1933447240153328e-05,3.4507924283389e-05,8.423935651080683e-05,0.00018164649372920394,0.00035624229349195957,0.0006482357275672257,0.001110113225877285,0.0018080403096973896,0.0028230512980371714,0.004251945298165083,0.006207956466823816,0.008820988237857819,0.01223765779286623,0.01662086509168148,0.022149035707116127,0.02901509962975979,0.03742506355047226,0.04759608209133148,0.059754565358161926,0.07413350045681,0.0909700095653534,0.11050232499837875,0.13296686112880707,0.15859384834766388,0.18760544061660767,0.22021053731441498,0.25660187005996704,0.29695284366607666,0.3414117693901062,0.3901008367538452,0.4431096017360687,0.500495433807373,0.5622747540473938,0.628426194190979,0.6988828778266907,0.7735334634780884,0.8522170782089233,0.9347245097160339,1.0207935571670532,1.1101138591766357,1.202318549156189,1.2969934940338135,1.3936715126037598,1.4918369054794312,1.5909247398376465,1.6903291940689087,1.7894020080566406,1.8874554634094238,1.9837726354599,2.077606439590454,2.1681902408599854,2.2547407150268555,2.336470365524292,2.4125847816467285,2.482304334640503,2.544862985610962,2.5995192527770996,2.6455636024475098,2.682340145111084,2.7092366218566895,2.725712537765503,2.731295347213745,2.725599527359009,2.708329916000366,2.6793015003204346,2.6384294033050537,2.585754871368408,2.521444320678711,2.445795774459839,2.359248399734497,2.2623744010925293,2.155898332595825,2.040682792663574,1.9177353382110596,1.788198471069336,1.6533457040786743,1.5145750045776367,1.3733874559402466,1.2313783168792725,1.0902153253555298,0.9516144394874573,0.8173044323921204,0.6890047788619995,0.5683777332305908,0.4569862186908722,0.3562423288822174,0.2673510015010834,0.191242516040802,0.12850329279899597,0.07929393649101257,0.04325975477695465,0.01943359524011612,0.006127521395683289,0.0008145560277625918,0.0],\"yaxis\":\"y\",\"type\":\"scatter\"},{\"hovertemplate\":\"variable=quad_approx\\u003cbr\\u003ex=%{x}\\u003cbr\\u003evalue=%{y}\\u003cextra\\u003e\\u003c\\u002fextra\\u003e\",\"legendgroup\":\"quad_approx\",\"line\":{\"color\":\"#EF553B\",\"dash\":\"solid\"},\"marker\":{\"symbol\":\"circle\"},\"mode\":\"lines\",\"name\":\"quad_approx\",\"orientation\":\"v\",\"showlegend\":true,\"x\":[0.0,0.010101010091602802,0.020202020183205605,0.03030303120613098,0.04040404036641121,0.05050504952669144,0.06060606241226196,0.07070706784725189,0.08080808073282242,0.09090909361839294,0.10101009905338287,0.1111111119389534,0.12121212482452393,0.13131313025951385,0.14141413569450378,0.1515151560306549,0.16161616146564484,0.17171716690063477,0.1818181872367859,0.19191919267177582,0.20202019810676575,0.21212121844291687,0.2222222238779068,0.23232322931289673,0.24242424964904785,0.2525252401828766,0.2626262605190277,0.27272728085517883,0.28282827138900757,0.2929292917251587,0.3030303120613098,0.31313130259513855,0.3232323229312897,0.3333333432674408,0.34343433380126953,0.35353535413742065,0.3636363744735718,0.3737373650074005,0.38383838534355164,0.39393940567970276,0.4040403962135315,0.4141414165496826,0.42424243688583374,0.4343434274196625,0.4444444477558136,0.4545454680919647,0.46464645862579346,0.4747474789619446,0.4848484992980957,0.49494948983192444,0.5050504803657532,0.5151515007019043,0.5252525210380554,0.5353535413742065,0.5454545617103577,0.5555555820465088,0.5656565427780151,0.5757575631141663,0.5858585834503174,0.5959596037864685,0.6060606241226196,0.6161616444587708,0.6262626051902771,0.6363636255264282,0.6464646458625793,0.6565656661987305,0.6666666865348816,0.6767676472663879,0.6868686676025391,0.6969696879386902,0.7070707082748413,0.7171717286109924,0.7272727489471436,0.7373737096786499,0.747474730014801,0.7575757503509521,0.7676767706871033,0.7777777910232544,0.7878788113594055,0.7979797720909119,0.808080792427063,0.8181818127632141,0.8282828330993652,0.8383838534355164,0.8484848737716675,0.8585858345031738,0.868686854839325,0.8787878751754761,0.8888888955116272,0.8989899158477783,0.9090909361839294,0.9191918969154358,0.9292929172515869,0.939393937587738,0.9494949579238892,0.9595959782600403,0.9696969985961914,0.9797979593276978,0.9898989796638489,1.0],\"xaxis\":\"x\",\"y\":[0.0003150571428705007,0.0004129138542339206,0.0005389341968111694,0.0007005190127529204,0.0009067953214980662,0.0011689767707139254,0.0015007511246949434,0.0019187486032024026,0.0024430598132312298,0.0030978256836533546,0.003911884967237711,0.0049195135943591595,0.00616118498146534,0.007684457115828991,0.009544837288558483,0.011806759051978588,0.014544516801834106,0.01784326322376728,0.02179999090731144,0.02652432583272457,0.032139506191015244,0.038782935589551926,0.04660673439502716,0.05577801913022995,0.06647897511720657,0.07890634983778,0.09327086806297302,0.10979612171649933,0.12871643900871277,0.15027548372745514,0.17472243309020996,0.20230919122695923,0.2332862764596939,0.2678980231285095,0.3063768148422241,0.34893888235092163,0.3957758843898773,0.4470493793487549,0.5028848648071289,0.5633628964424133,0.6285127401351929,0.6983077526092529,0.7726560831069946,0.851396381855011,0.9342954754829407,1.0210411548614502,1.1112416982650757,1.2044274806976318,1.3000478744506836,1.3974759578704834,1.4960153102874756,1.5949034690856934,1.693320631980896,1.7904025316238403,1.8852490186691284,1.9769387245178223,2.064544439315796,2.1471478939056396,2.223853349685669,2.2938075065612793,2.3562116622924805,2.410339593887329,2.4555492401123047,2.491298198699951,2.517151355743408,2.5327916145324707,2.538026809692383,2.53279185295105,2.5171515941619873,2.4912984371185303,2.455549955368042,2.410339832305908,2.3562119007110596,2.2938082218170166,2.2238543033599854,2.147148370742798,2.0645453929901123,1.9769394397735596,1.8852490186691284,1.7904036045074463,1.6933221817016602,1.5949041843414307,1.496016502380371,1.3974770307540894,1.3000478744506836,1.2044285535812378,1.1112431287765503,1.0210415124893188,0.9342960715293884,0.8513972759246826,0.7726560831069946,0.6983085870742798,0.6285138130187988,0.5633631348609924,0.5028853416442871,0.44704994559288025,0.3957758843898773,0.3489393889904022,0.30637747049331665,0.2678981423377991],\"yaxis\":\"y\",\"type\":\"scatter\"}],                        {\"template\":{\"data\":{\"histogram2dcontour\":[{\"type\":\"histogram2dcontour\",\"colorbar\":{\"outlinewidth\":0,\"ticks\":\"\"},\"colorscale\":[[0.0,\"#0d0887\"],[0.1111111111111111,\"#46039f\"],[0.2222222222222222,\"#7201a8\"],[0.3333333333333333,\"#9c179e\"],[0.4444444444444444,\"#bd3786\"],[0.5555555555555556,\"#d8576b\"],[0.6666666666666666,\"#ed7953\"],[0.7777777777777778,\"#fb9f3a\"],[0.8888888888888888,\"#fdca26\"],[1.0,\"#f0f921\"]]}],\"choropleth\":[{\"type\":\"choropleth\",\"colorbar\":{\"outlinewidth\":0,\"ticks\":\"\"}}],\"histogram2d\":[{\"type\":\"histogram2d\",\"colorbar\":{\"outlinewidth\":0,\"ticks\":\"\"},\"colorscale\":[[0.0,\"#0d0887\"],[0.1111111111111111,\"#46039f\"],[0.2222222222222222,\"#7201a8\"],[0.3333333333333333,\"#9c179e\"],[0.4444444444444444,\"#bd3786\"],[0.5555555555555556,\"#d8576b\"],[0.6666666666666666,\"#ed7953\"],[0.7777777777777778,\"#fb9f3a\"],[0.8888888888888888,\"#fdca26\"],[1.0,\"#f0f921\"]]}],\"heatmap\":[{\"type\":\"heatmap\",\"colorbar\":{\"outlinewidth\":0,\"ticks\":\"\"},\"colorscale\":[[0.0,\"#0d0887\"],[0.1111111111111111,\"#46039f\"],[0.2222222222222222,\"#7201a8\"],[0.3333333333333333,\"#9c179e\"],[0.4444444444444444,\"#bd3786\"],[0.5555555555555556,\"#d8576b\"],[0.6666666666666666,\"#ed7953\"],[0.7777777777777778,\"#fb9f3a\"],[0.8888888888888888,\"#fdca26\"],[1.0,\"#f0f921\"]]}],\"heatmapgl\":[{\"type\":\"heatmapgl\",\"colorbar\":{\"outlinewidth\":0,\"ticks\":\"\"},\"colorscale\":[[0.0,\"#0d0887\"],[0.1111111111111111,\"#46039f\"],[0.2222222222222222,\"#7201a8\"],[0.3333333333333333,\"#9c179e\"],[0.4444444444444444,\"#bd3786\"],[0.5555555555555556,\"#d8576b\"],[0.6666666666666666,\"#ed7953\"],[0.7777777777777778,\"#fb9f3a\"],[0.8888888888888888,\"#fdca26\"],[1.0,\"#f0f921\"]]}],\"contourcarpet\":[{\"type\":\"contourcarpet\",\"colorbar\":{\"outlinewidth\":0,\"ticks\":\"\"}}],\"contour\":[{\"type\":\"contour\",\"colorbar\":{\"outlinewidth\":0,\"ticks\":\"\"},\"colorscale\":[[0.0,\"#0d0887\"],[0.1111111111111111,\"#46039f\"],[0.2222222222222222,\"#7201a8\"],[0.3333333333333333,\"#9c179e\"],[0.4444444444444444,\"#bd3786\"],[0.5555555555555556,\"#d8576b\"],[0.6666666666666666,\"#ed7953\"],[0.7777777777777778,\"#fb9f3a\"],[0.8888888888888888,\"#fdca26\"],[1.0,\"#f0f921\"]]}],\"surface\":[{\"type\":\"surface\",\"colorbar\":{\"outlinewidth\":0,\"ticks\":\"\"},\"colorscale\":[[0.0,\"#0d0887\"],[0.1111111111111111,\"#46039f\"],[0.2222222222222222,\"#7201a8\"],[0.3333333333333333,\"#9c179e\"],[0.4444444444444444,\"#bd3786\"],[0.5555555555555556,\"#d8576b\"],[0.6666666666666666,\"#ed7953\"],[0.7777777777777778,\"#fb9f3a\"],[0.8888888888888888,\"#fdca26\"],[1.0,\"#f0f921\"]]}],\"mesh3d\":[{\"type\":\"mesh3d\",\"colorbar\":{\"outlinewidth\":0,\"ticks\":\"\"}}],\"scatter\":[{\"fillpattern\":{\"fillmode\":\"overlay\",\"size\":10,\"solidity\":0.2},\"type\":\"scatter\"}],\"parcoords\":[{\"type\":\"parcoords\",\"line\":{\"colorbar\":{\"outlinewidth\":0,\"ticks\":\"\"}}}],\"scatterpolargl\":[{\"type\":\"scatterpolargl\",\"marker\":{\"colorbar\":{\"outlinewidth\":0,\"ticks\":\"\"}}}],\"bar\":[{\"error_x\":{\"color\":\"#2a3f5f\"},\"error_y\":{\"color\":\"#2a3f5f\"},\"marker\":{\"line\":{\"color\":\"#E5ECF6\",\"width\":0.5},\"pattern\":{\"fillmode\":\"overlay\",\"size\":10,\"solidity\":0.2}},\"type\":\"bar\"}],\"scattergeo\":[{\"type\":\"scattergeo\",\"marker\":{\"colorbar\":{\"outlinewidth\":0,\"ticks\":\"\"}}}],\"scatterpolar\":[{\"type\":\"scatterpolar\",\"marker\":{\"colorbar\":{\"outlinewidth\":0,\"ticks\":\"\"}}}],\"histogram\":[{\"marker\":{\"pattern\":{\"fillmode\":\"overlay\",\"size\":10,\"solidity\":0.2}},\"type\":\"histogram\"}],\"scattergl\":[{\"type\":\"scattergl\",\"marker\":{\"colorbar\":{\"outlinewidth\":0,\"ticks\":\"\"}}}],\"scatter3d\":[{\"type\":\"scatter3d\",\"line\":{\"colorbar\":{\"outlinewidth\":0,\"ticks\":\"\"}},\"marker\":{\"colorbar\":{\"outlinewidth\":0,\"ticks\":\"\"}}}],\"scattermapbox\":[{\"type\":\"scattermapbox\",\"marker\":{\"colorbar\":{\"outlinewidth\":0,\"ticks\":\"\"}}}],\"scatterternary\":[{\"type\":\"scatterternary\",\"marker\":{\"colorbar\":{\"outlinewidth\":0,\"ticks\":\"\"}}}],\"scattercarpet\":[{\"type\":\"scattercarpet\",\"marker\":{\"colorbar\":{\"outlinewidth\":0,\"ticks\":\"\"}}}],\"carpet\":[{\"aaxis\":{\"endlinecolor\":\"#2a3f5f\",\"gridcolor\":\"white\",\"linecolor\":\"white\",\"minorgridcolor\":\"white\",\"startlinecolor\":\"#2a3f5f\"},\"baxis\":{\"endlinecolor\":\"#2a3f5f\",\"gridcolor\":\"white\",\"linecolor\":\"white\",\"minorgridcolor\":\"white\",\"startlinecolor\":\"#2a3f5f\"},\"type\":\"carpet\"}],\"table\":[{\"cells\":{\"fill\":{\"color\":\"#EBF0F8\"},\"line\":{\"color\":\"white\"}},\"header\":{\"fill\":{\"color\":\"#C8D4E3\"},\"line\":{\"color\":\"white\"}},\"type\":\"table\"}],\"barpolar\":[{\"marker\":{\"line\":{\"color\":\"#E5ECF6\",\"width\":0.5},\"pattern\":{\"fillmode\":\"overlay\",\"size\":10,\"solidity\":0.2}},\"type\":\"barpolar\"}],\"pie\":[{\"automargin\":true,\"type\":\"pie\"}]},\"layout\":{\"autotypenumbers\":\"strict\",\"colorway\":[\"#636efa\",\"#EF553B\",\"#00cc96\",\"#ab63fa\",\"#FFA15A\",\"#19d3f3\",\"#FF6692\",\"#B6E880\",\"#FF97FF\",\"#FECB52\"],\"font\":{\"color\":\"#2a3f5f\"},\"hovermode\":\"closest\",\"hoverlabel\":{\"align\":\"left\"},\"paper_bgcolor\":\"white\",\"plot_bgcolor\":\"#E5ECF6\",\"polar\":{\"bgcolor\":\"#E5ECF6\",\"angularaxis\":{\"gridcolor\":\"white\",\"linecolor\":\"white\",\"ticks\":\"\"},\"radialaxis\":{\"gridcolor\":\"white\",\"linecolor\":\"white\",\"ticks\":\"\"}},\"ternary\":{\"bgcolor\":\"#E5ECF6\",\"aaxis\":{\"gridcolor\":\"white\",\"linecolor\":\"white\",\"ticks\":\"\"},\"baxis\":{\"gridcolor\":\"white\",\"linecolor\":\"white\",\"ticks\":\"\"},\"caxis\":{\"gridcolor\":\"white\",\"linecolor\":\"white\",\"ticks\":\"\"}},\"coloraxis\":{\"colorbar\":{\"outlinewidth\":0,\"ticks\":\"\"}},\"colorscale\":{\"sequential\":[[0.0,\"#0d0887\"],[0.1111111111111111,\"#46039f\"],[0.2222222222222222,\"#7201a8\"],[0.3333333333333333,\"#9c179e\"],[0.4444444444444444,\"#bd3786\"],[0.5555555555555556,\"#d8576b\"],[0.6666666666666666,\"#ed7953\"],[0.7777777777777778,\"#fb9f3a\"],[0.8888888888888888,\"#fdca26\"],[1.0,\"#f0f921\"]],\"sequentialminus\":[[0.0,\"#0d0887\"],[0.1111111111111111,\"#46039f\"],[0.2222222222222222,\"#7201a8\"],[0.3333333333333333,\"#9c179e\"],[0.4444444444444444,\"#bd3786\"],[0.5555555555555556,\"#d8576b\"],[0.6666666666666666,\"#ed7953\"],[0.7777777777777778,\"#fb9f3a\"],[0.8888888888888888,\"#fdca26\"],[1.0,\"#f0f921\"]],\"diverging\":[[0,\"#8e0152\"],[0.1,\"#c51b7d\"],[0.2,\"#de77ae\"],[0.3,\"#f1b6da\"],[0.4,\"#fde0ef\"],[0.5,\"#f7f7f7\"],[0.6,\"#e6f5d0\"],[0.7,\"#b8e186\"],[0.8,\"#7fbc41\"],[0.9,\"#4d9221\"],[1,\"#276419\"]]},\"xaxis\":{\"gridcolor\":\"white\",\"linecolor\":\"white\",\"ticks\":\"\",\"title\":{\"standoff\":15},\"zerolinecolor\":\"white\",\"automargin\":true,\"zerolinewidth\":2},\"yaxis\":{\"gridcolor\":\"white\",\"linecolor\":\"white\",\"ticks\":\"\",\"title\":{\"standoff\":15},\"zerolinecolor\":\"white\",\"automargin\":true,\"zerolinewidth\":2},\"scene\":{\"xaxis\":{\"backgroundcolor\":\"#E5ECF6\",\"gridcolor\":\"white\",\"linecolor\":\"white\",\"showbackground\":true,\"ticks\":\"\",\"zerolinecolor\":\"white\",\"gridwidth\":2},\"yaxis\":{\"backgroundcolor\":\"#E5ECF6\",\"gridcolor\":\"white\",\"linecolor\":\"white\",\"showbackground\":true,\"ticks\":\"\",\"zerolinecolor\":\"white\",\"gridwidth\":2},\"zaxis\":{\"backgroundcolor\":\"#E5ECF6\",\"gridcolor\":\"white\",\"linecolor\":\"white\",\"showbackground\":true,\"ticks\":\"\",\"zerolinecolor\":\"white\",\"gridwidth\":2}},\"shapedefaults\":{\"line\":{\"color\":\"#2a3f5f\"}},\"annotationdefaults\":{\"arrowcolor\":\"#2a3f5f\",\"arrowhead\":0,\"arrowwidth\":1},\"geo\":{\"bgcolor\":\"white\",\"landcolor\":\"#E5ECF6\",\"subunitcolor\":\"white\",\"showland\":true,\"showlakes\":true,\"lakecolor\":\"white\"},\"title\":{\"x\":0.05},\"mapbox\":{\"style\":\"light\"}}},\"xaxis\":{\"anchor\":\"y\",\"domain\":[0.0,1.0],\"title\":{\"text\":\"x\"}},\"yaxis\":{\"anchor\":\"x\",\"domain\":[0.0,1.0],\"title\":{\"text\":\"value\"}},\"legend\":{\"title\":{\"text\":\"variable\"},\"tracegroupgap\":0},\"margin\":{\"t\":60},\"autosize\":false,\"width\":500,\"height\":500},                        {\"responsive\": true}                    ).then(function(){\n",
              "                            \n",
              "var gd = document.getElementById('4881aed0-c396-43f2-ac88-4f256e91db2c');\n",
              "var x = new MutationObserver(function (mutations, observer) {{\n",
              "        var display = window.getComputedStyle(gd).display;\n",
              "        if (!display || display === 'none') {{\n",
              "            console.log([gd, 'removed!']);\n",
              "            Plotly.purge(gd);\n",
              "            observer.disconnect();\n",
              "        }}\n",
              "}});\n",
              "\n",
              "// Listen for the removal of the full notebook cells\n",
              "var notebookContainer = gd.closest('#notebook-container');\n",
              "if (notebookContainer) {{\n",
              "    x.observe(notebookContainer, {childList: true});\n",
              "}}\n",
              "\n",
              "// Listen for the clearing of the current output cell\n",
              "var outputEl = gd.closest('.output');\n",
              "if (outputEl) {{\n",
              "    x.observe(outputEl, {childList: true});\n",
              "}}\n",
              "\n",
              "                        })                };                            </script>        </div>\n",
              "</body>\n",
              "</html>"
            ]
          },
          "metadata": {}
        }
      ]
    }
  ]
}